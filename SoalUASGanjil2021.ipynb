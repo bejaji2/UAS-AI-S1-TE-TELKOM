{
  "nbformat": 4,
  "nbformat_minor": 0,
  "metadata": {
    "kernelspec": {
      "display_name": "Python 3",
      "language": "python",
      "name": "python3"
    },
    "language_info": {
      "codemirror_mode": {
        "name": "ipython",
        "version": 3
      },
      "file_extension": ".py",
      "mimetype": "text/x-python",
      "name": "python",
      "nbconvert_exporter": "python",
      "pygments_lexer": "ipython3",
      "version": "3.8.5"
    },
    "colab": {
      "name": "SoalUASGanjil2021.ipynb",
      "provenance": []
    }
  },
  "cells": [
    {
      "cell_type": "markdown",
      "metadata": {
        "id": "XPw6ae2g1Ibe"
      },
      "source": [
        "## 1. Support Vektor Machine (SVM)"
      ]
    },
    {
      "cell_type": "markdown",
      "metadata": {
        "id": "weLWRgwE1Ibf"
      },
      "source": [
        "Berlanjut dengan cerita Joko seperti pada UTS. Selain ingin memprediksi berat atau panjang ikan, Joko juga tertarik untuk melakukan klasifikasi apakah ikan tertentu termasuk ikan Gurame atau Ikan Mujair. Kemudian dia memutuskan, klasifikasi adalah berdasarkan *feature* berat dan juga panjang. Hasil pengumpulan data Joko dapat dilihat pada link berikut ini: [**Data Ikan 2**](https://drive.google.com/file/d/1DBlEemGWKSaLb4X6W7PLDpccWCFF3VnD/view?usp=sharing). \n",
        "\n",
        "Pada data tersebut, kolom pertama menyatakan berat ikan (dalam gram), kolom kedua menyatakan panjang ikan (dalam cm) dan kolom ketiga menyatakan jenis ikan, dimana ikan Gurame dikodekan dengan angka 1, sedangkan ikan Mujair dikodekan dengan angka 0. \n",
        "\n",
        "Karena Joko sudah sangat paham menyangkut *Machine Learning*, dia meminta anda untuk menggunakan Metode Support Vector Machine (SVM) sederhana untuk melakukan klasifikasi."
      ]
    },
    {
      "cell_type": "markdown",
      "metadata": {
        "id": "l0ZlW0EX1Ibg"
      },
      "source": [
        "#### **Solusi SVM yang anda gunakan untuk membantu Joko melakukan klasifikasi jenis ikan Gurame atau Ikan Mujair mengikuti langkah-langkah berikut:**"
      ]
    },
    {
      "cell_type": "markdown",
      "metadata": {
        "id": "t6T1C3DO1Ibg"
      },
      "source": [
        "* Copy dataset yang ada pada link di atas ke dalam direktori lokal masing-masing (untuk memudahkan tempatkan pada folder yang sama dengan file Tugas Besar anda).\n",
        "* Setiap kelompok menggunakan dataset yang sama\n",
        "\n",
        "\n",
        "**A. Load dataset dalam format CSV tersebut** \n",
        "\n",
        "* Anda bisa menggunakan package `Pandas` maupun `Numpy`."
      ]
    },
    {
      "cell_type": "code",
      "metadata": {
        "id": "conOl_IJ1Ibi",
        "outputId": "279f8400-dbb6-4999-ad92-016f31076e4c"
      },
      "source": [
        "# Kode poin A di sini\n",
        "import pandas as pd\n",
        "import matplotlib.pyplot as plt\n",
        "import numpy as np\n",
        "import seaborn as sns\n",
        "\n",
        "ikan2 = pd.read_csv('IkanIndo01.csv',names=['berat ikan','panjang ikan','jenis']) #inisialisasi datasetnya\n",
        "print(ikan2) #menampilkan datasetnya\n"
      ],
      "execution_count": null,
      "outputs": [
        {
          "name": "stdout",
          "output_type": "stream",
          "text": [
            "     berat ikan  panjang ikan  jenis\n",
            "0         242.0          30.0      1\n",
            "1         290.0          31.2      1\n",
            "2         340.0          31.1      1\n",
            "3         363.0          33.5      1\n",
            "4         430.0          34.0      1\n",
            "..          ...           ...    ...\n",
            "153        12.2          13.4      0\n",
            "154        13.4          13.5      0\n",
            "155        12.2          13.8      0\n",
            "156        19.7          15.2      0\n",
            "157        19.9          16.2      0\n",
            "\n",
            "[158 rows x 3 columns]\n"
          ]
        }
      ]
    },
    {
      "cell_type": "markdown",
      "metadata": {
        "id": "ojDqlpdi1Ibj"
      },
      "source": [
        "**B. Atur data ke dalam matriks feature X dan target vektor y, kemudian plot data dalam dua dimensi**\n",
        "\n",
        "Catatan: sumbu x --> Feature 1 (berat ikan), sumbu y --> Feature 2 (panjang ikan), untuk *class* ikan Gurame (1) gunakan *square* warna biru (`'bs'`) dan untuk *class* ikan Mujair (0) gunakan *circle* warna hijau (`'go'`)."
      ]
    },
    {
      "cell_type": "code",
      "metadata": {
        "id": "b6Nvdmsh1Ibj",
        "outputId": "afc6d9e3-67d5-4d9f-a6a8-71bbc1a88fbe"
      },
      "source": [
        "# Kode poin B di sini\n",
        "\n",
        "#Atur data ke dalam matriks feature X dan target vektor y\n",
        "\n",
        "from sklearn.model_selection import train_test_split\n",
        "\n",
        "X = np.array(ikan2[['berat ikan','panjang ikan']])\n",
        "y = np.array(ikan2['jenis'])\n",
        "\n",
        "X_train, X_test, y_train, y_test = train_test_split(X, y, test_size=0.3, random_state=42)\n",
        "\n",
        "\n",
        "\n",
        "#plot data dalam dua dimensi \n",
        "Gurame = ikan2.loc[(ikan2['jenis'] == 1)]\n",
        "Mujair = ikan2.loc[(ikan2['jenis'] == 0)]\n",
        "WeightGurame = Gurame['berat ikan']\n",
        "LengthGurame = Gurame['panjang ikan']\n",
        "WeightMujair = Mujair['berat ikan']\n",
        "LengthMujair = Mujair['panjang ikan']\n",
        "\n",
        "plt.figure(figsize=(14,6))\n",
        "plt.plot(WeightGurame, LengthGurame, \"bs\", linewidth=0, label=\"Ikan Gurame\")\n",
        "plt.plot(WeightMujair, LengthMujair, \"go\", linewidth=0, label=\"Ikan Mujair\")\n",
        "plt.xlabel(\"Berat ikan\", fontsize=18)\n",
        "plt.ylabel(\"Panjang ikan\", fontsize=18)\n",
        "plt.title('Dataset Data Ikan 2', fontsize=18)\n"
      ],
      "execution_count": null,
      "outputs": [
        {
          "data": {
            "text/plain": [
              "Text(0.5, 1.0, 'Dataset Data Ikan 2')"
            ]
          },
          "execution_count": 3,
          "metadata": {},
          "output_type": "execute_result"
        },
        {
          "data": {
            "image/png": "[encoded data removed]",
            "text/plain": [
              "<Figure size 1008x432 with 1 Axes>"
            ]
          },
          "metadata": {
            "needs_background": "light"
          },
          "output_type": "display_data"
        }
      ]
    },
    {
      "cell_type": "markdown",
      "metadata": {
        "id": "zJVZM0Oz1Ibk"
      },
      "source": [
        "**C. Memilih Model Class, Penentuan Hyperparameter (jika ada) dan Fitting Model terhadap data training**\n",
        "\n",
        "Catatan: \n",
        "- Gunakan SVM model linier untuk klasifikasi yang menggunakan hyperparameter C = 1 dan yang menggunakan hyperparameter C sangat besar mis C = 10. Bedakan nama variabelnya untuk kedua model tersebut misal: svm_clfK untuk C kecil = 1, dan svm_clfB untuk C besar = 10 "
      ]
    },
    {
      "cell_type": "code",
      "metadata": {
        "scrolled": true,
        "id": "Zi85dZkQ1Ibk"
      },
      "source": [
        "# Kode Poin C di sini\n",
        "from sklearn.svm import SVC\n",
        "\n",
        "mujair_or_gurame = (y==0) | (y==1)"
      ],
      "execution_count": null,
      "outputs": []
    },
    {
      "cell_type": "code",
      "metadata": {
        "id": "sBzHx2A-1Ibl",
        "outputId": "6474fcea-fd03-457d-a54d-5a4e7b535c76"
      },
      "source": [
        "# SVM Classifier model linier dengan C = 1 mode linear \n",
        "\n",
        "svm_clfK = SVC(kernel=\"linear\", C=1)\n",
        "svm_clfK.fit(X_train, y_train)"
      ],
      "execution_count": null,
      "outputs": [
        {
          "data": {
            "text/plain": [
              "SVC(C=1, kernel='linear')"
            ]
          },
          "execution_count": 5,
          "metadata": {},
          "output_type": "execute_result"
        }
      ]
    },
    {
      "cell_type": "code",
      "metadata": {
        "id": "ZiUQcCCz1Ibl",
        "outputId": "e9092311-d35b-49fc-8f4f-b41800f85b75"
      },
      "source": [
        "# SVM Classifier model C sangat besar mode linear\n",
        "svm_clfB = SVC(kernel=\"linear\", C=10)\n",
        "svm_clfB.fit(X_train, y_train)\n"
      ],
      "execution_count": null,
      "outputs": [
        {
          "data": {
            "text/plain": [
              "SVC(C=10, kernel='linear')"
            ]
          },
          "execution_count": 6,
          "metadata": {},
          "output_type": "execute_result"
        }
      ]
    },
    {
      "cell_type": "code",
      "metadata": {
        "id": "yXgtAD9I1Ibm",
        "outputId": "65e9cdf5-4bc4-421e-b09f-9330a9cd3ff2"
      },
      "source": [
        "# mencari nilai akurasi dan besconfussion matrix\n",
        "from sklearn.metrics import accuracy_score\n",
        "from sklearn.metrics import confusion_matrix\n",
        "y_predK=svm_clfK.predict(X_test)\n",
        "y_predB=svm_clfB.predict(X_test)\n",
        "print(\"Nilai akurasi C=1 :\\n\",accuracy_score(y_test,y_predK))\n",
        "print(confusion_matrix(y_test, y_predK))\n",
        "print(\"Nilai akurasi C=10 :\\n\",accuracy_score(y_test,y_predB))\n",
        "print(confusion_matrix(y_test, y_predB))"
      ],
      "execution_count": null,
      "outputs": [
        {
          "name": "stdout",
          "output_type": "stream",
          "text": [
            "Nilai akurasi C=1 :\n",
            " 0.9583333333333334\n",
            "[[26  2]\n",
            " [ 0 20]]\n",
            "Nilai akurasi C=10 :\n",
            " 0.9583333333333334\n",
            "[[26  2]\n",
            " [ 0 20]]\n"
          ]
        }
      ]
    },
    {
      "cell_type": "markdown",
      "metadata": {
        "id": "W8pw8y3w1Ibm"
      },
      "source": [
        "**D. Plotting Batas Keputusan (*Decision Boundary*)**"
      ]
    },
    {
      "cell_type": "markdown",
      "metadata": {
        "id": "VL5QEuZe1Ibn"
      },
      "source": [
        "Gambar data seperti pada poin B, tetapi tambahkan batas keputusan (berupa garis lurus) yang memisahkan antara data ikan Gurame dan ikan Mujair (lihat contoh di **Chapter 5**, Gambar 5.1.). \n",
        "\n",
        "* Buat gambar sesuai dengan model dari poin C dengan nilai hyperparameter C = 1."
      ]
    },
    {
      "cell_type": "code",
      "metadata": {
        "id": "wHfCV1mq1Ibn",
        "outputId": "acf6851f-be2f-441b-f6b3-b2aea878a394"
      },
      "source": [
        "# Kode poin D di sini\n",
        "x0 = np.linspace(0,1650,200)\n",
        "pred_1 = 5*x0 - 20\n",
        "pred_2 = x0 - 1.8\n",
        "pred_3 = 0.1 * x0 + 0.5\n",
        "\n",
        "def plot_svc_decision_boundary(svm_clfK, xmin, xmax): #untuk c = 1\n",
        "    w = svm_clfK.coef_[0]\n",
        "    b = svm_clfK.intercept_[0]\n",
        "\n",
        "    # At the decision boundary, w0*x0 + w1*x1 + b = 0\n",
        "    # => x1 = -w0/w1 * x0 - b/w1\n",
        "    \n",
        "    x0 = np.linspace(xmin, xmax, 200)\n",
        "    decision_boundary = -w[0]/w[1] * x0 - b/w[1]\n",
        "    margin = 1/w[1]\n",
        "    gutter_up = decision_boundary + margin\n",
        "    gutter_down = decision_boundary - margin\n",
        "    svs = svm_clfB.support_vectors_\n",
        "    plt.scatter(svs[:, 0], svs[:, 1], s=180, facecolors='#FFAAAA')\n",
        "    plt.plot(x0, decision_boundary, \"k-\", linewidth=2)\n",
        "    plt.plot(x0, gutter_up, \"k--\", linewidth=2)\n",
        "    plt.plot(x0, gutter_down, \"k--\", linewidth=2)\n",
        "    plt.plot(x0, gutter_up, \"k--\", linewidth=2)\n",
        "    plt.plot(x0, gutter_down, \"k--\", linewidth=2)\n",
        "\n",
        "plt.figure(figsize=(12,6)) \n",
        "plt.title(\"Decision Boundary K=1\",fontsize= 15)\n",
        "plot_svc_decision_boundary(svm_clfB, 0, 1650)\n",
        "plt.plot(X[:, 0][y==1], X[:, 1][y==1], \"bs\")\n",
        "plt.plot(X[:, 0][y==0], X[:, 1][y==0], \"go\")\n",
        "plt.xlabel(\"Berat Ikan\", fontsize=14)\n",
        "plt.ylabel(\"Panjang Ikan\", fontsize=14)\n",
        "plt.axis([0, 1650, 0, 70])\n",
        "plt.show()\n"
      ],
      "execution_count": null,
      "outputs": [
        {
          "data": {
            "image/png": "[encoded data removed]",
            "text/plain": [
              "<Figure size 864x432 with 1 Axes>"
            ]
          },
          "metadata": {
            "needs_background": "light"
          },
          "output_type": "display_data"
        }
      ]
    },
    {
      "cell_type": "markdown",
      "metadata": {
        "id": "0IRjT0E31Ibn"
      },
      "source": [
        "* Buat gambar sesuai dengan model dari poin C dengan nilai hyperparameter besar C = 10."
      ]
    },
    {
      "cell_type": "code",
      "metadata": {
        "id": "U2nRiBRc1Ibn",
        "outputId": "3bb99091-81dc-43b7-dbe2-ae7b5962200c"
      },
      "source": [
        "# Kode di sini\n",
        "# Kode poin D di sini\n",
        "x0 = np.linspace(0,1650,200)\n",
        "pred_1 = 5*x0 - 20\n",
        "pred_2 = x0 - 1.8\n",
        "pred_3 = 0.1 * x0 + 0.5\n",
        "\n",
        "def plot_svc_decision_boundary(svm_clfB, xmin, xmax):    # untuk clfB C = 10\n",
        "    w = svm_clfK.coef_[0]\n",
        "    b = svm_clfK.intercept_[0]\n",
        "\n",
        "    # At the decision boundary, w0*x0 + w1*x1 + b = 0\n",
        "    # => x1 = -w0/w1 * x0 - b/w1\n",
        "    \n",
        "    x0 = np.linspace(xmin, xmax, 200)\n",
        "    decision_boundary = -w[0]/w[1] * x0 - b/w[1]\n",
        "    margin = 1/w[1]\n",
        "    gutter_up = decision_boundary + margin\n",
        "    gutter_down = decision_boundary - margin\n",
        "    svs = svm_clfB.support_vectors_\n",
        "    plt.scatter(svs[:, 0], svs[:, 1], s=180, facecolors='#FFAAAA')\n",
        "    plt.plot(x0, decision_boundary, \"k-\", linewidth=2)\n",
        "    plt.plot(x0, gutter_up, \"k--\", linewidth=2)\n",
        "    plt.plot(x0, gutter_down, \"k--\", linewidth=2)\n",
        "    plt.plot(x0, gutter_up, \"k--\", linewidth=2)\n",
        "    plt.plot(x0, gutter_down, \"k--\", linewidth=2)\n",
        "\n",
        "plt.figure(figsize=(12,6)) \n",
        "plt.title(\"Decision Boundary K=10\",fontsize= 15)\n",
        "plot_svc_decision_boundary(svm_clfB, 0, 1650)\n",
        "plt.plot(X[:, 0][y==1], X[:, 1][y==1], \"bs\")\n",
        "plt.plot(X[:, 0][y==0], X[:, 1][y==0], \"go\")\n",
        "plt.xlabel(\"Berat Ikan\", fontsize=14)\n",
        "plt.ylabel(\"Panjang Ikan\", fontsize=14)\n",
        "plt.axis([0, 1650, 0, 70])\n",
        "plt.show()\n"
      ],
      "execution_count": null,
      "outputs": [
        {
          "data": {
            "image/png": "[encoded data removed]",
            "text/plain": [
              "<Figure size 864x432 with 1 Axes>"
            ]
          },
          "metadata": {
            "needs_background": "light"
          },
          "output_type": "display_data"
        }
      ]
    },
    {
      "cell_type": "markdown",
      "metadata": {
        "id": "JF4yuFL91Ibo"
      },
      "source": [
        "* Apa kesimpulan anda jika membandingkan kedua gambar di atas dengan hyperparameter C yang berbeda (C = 1 dan C = 10)\n",
        "\n",
        "Tidak ada perbedaan"
      ]
    },
    {
      "cell_type": "markdown",
      "metadata": {
        "id": "8_70W4371Ibo"
      },
      "source": [
        "**E. Memprediksi data baru**"
      ]
    },
    {
      "cell_type": "markdown",
      "metadata": {
        "id": "AZ8Le6Aq1Ibo"
      },
      "source": [
        "Jika terdapat dua ekor ikan, dimana ikan 1 dengan berat = 200 gram dan panjang = 30 cm, sedangkan ikan 2 berat = 600 gram dan panjang = 20 cm. Tentukan jenis kedua ikan tersebut apakah ikan Gurame atau Mujaer berdasarkan model anda (Gunakan hyperparameter C = 1)."
      ]
    },
    {
      "cell_type": "markdown",
      "metadata": {
        "id": "NJigfwDR1Ibp"
      },
      "source": [
        "Jenis ikan apakah ikan 1 ini?"
      ]
    },
    {
      "cell_type": "code",
      "metadata": {
        "id": "SnjCKKq_1Ibp",
        "outputId": "38325dca-2cf9-4ab7-e87a-3025f661f3ca"
      },
      "source": [
        "# kode poin E di sini\n",
        "# Ikan 1: berat = 200 gram, panjang 30 cm\n",
        "\n",
        "dataikan=svm_clfK.predict([[200,30], [800,20]]) \n",
        "if dataikan[0] == 1:\n",
        "  print(\"ikan 1 adalah jenis ikan gurame\")\n",
        "else:\n",
        "  print(\"ikan 1 adalah jenis ikan mujair\")\n",
        "if dataikan[1] == 1:\n",
        "  print(\"ikan 2 adalah jenis ikangurame\")\n",
        "else:\n",
        "  print(\"ikan 2 adalah jenis ikan mujair\")"
      ],
      "execution_count": null,
      "outputs": [
        {
          "name": "stdout",
          "output_type": "stream",
          "text": [
            "ikan 1 adalah jenis ikan mujair\n",
            "ikan 2 adalah jenis ikan mujair\n"
          ]
        }
      ]
    },
    {
      "cell_type": "markdown",
      "metadata": {
        "id": "OqHO6cSX1Ibp"
      },
      "source": [
        "Jenis ikan apakah ikan 2 ini?"
      ]
    },
    {
      "cell_type": "code",
      "metadata": {
        "id": "tGKNEvJb1Ibp",
        "outputId": "ae9bc0b0-4c3e-474f-850e-cf666677db0c"
      },
      "source": [
        "# Ikan 2: berat = 200 gram, panjang 20 cm\n",
        "dataikan=svm_clfK.predict([[200,20]]) \n",
        "if dataikan[0] == 1:\n",
        "  print(\"ikan 3 adalah jenis ikan gurame\")\n",
        "else:\n",
        "  print(\"ikan 3 adalah jenis ikan mujair\")"
      ],
      "execution_count": null,
      "outputs": [
        {
          "name": "stdout",
          "output_type": "stream",
          "text": [
            "ikan 3 adalah jenis ikan mujair\n"
          ]
        }
      ]
    },
    {
      "cell_type": "markdown",
      "metadata": {
        "id": "HCpx5OTR1Ibq"
      },
      "source": [
        "## 2. Unsupervised Learning"
      ]
    },
    {
      "cell_type": "markdown",
      "metadata": {
        "id": "88BH45X71Ibq"
      },
      "source": [
        "### Keterangan Data ###"
      ]
    },
    {
      "cell_type": "markdown",
      "metadata": {
        "id": "eDjP7DK31Ibq"
      },
      "source": [
        "Dimisalkan anda memiliki supermarket sendiri, dan melalui kartu anggota anda bisa mendapatkan basic data tentang customer sebagai berikut:\n",
        "\n",
        "1. Customer ID\n",
        "2. umur (age)\n",
        "3. Jenis Kelamin(gender)\n",
        "4. Pendapatan perbulan (Annual income)\n",
        "5. Skor Pembelanjaan (Spending Score) \n",
        "\n",
        "Yang kemudian disimpan dalam betuk Dataset pada link berikut: https://drive.google.com/file/d/1F8U_UcYktotQvncjFyxWdggkXB5bwOog/view?usp=sharing\n",
        "\n",
        "\n",
        "\n",
        "Skor Pembelanjaan adalah sesuatu yang ditetapkan kepada pelanggan berdasarkan parameter yang Anda tentukan seperti perilaku pelanggan dan data pembelian.\n"
      ]
    },
    {
      "cell_type": "markdown",
      "metadata": {
        "id": "R8n9EsaJ1Ibq"
      },
      "source": [
        "Anda tertarik untuk melakukan clustering data target customer bedasarkan data diatas sehingga hasilnya bisa digunakan tim marketing untuk membuat strategi pemasaran. Beberapa hal yang anda ingin dapatkan dan lakukan adalah sebagai berikut:\n",
        "\n",
        "A. Ploting data dan pilih data yang sesuai untuk melakukan clustering\n",
        "\n",
        "B. Mencari nilai inerstia dan silhouette, analisis dan tentukan nilai k nya\n",
        "\n",
        "C. Melakukan proses clustering dengan hasil nilai k yang ditentukan\n",
        "\n",
        "D. Analisis hasil clustering berdasarkan cluster center dengan data realnya\n",
        "\n",
        "Empat poin di atas dilakukan dengan pemprograman Python dan Scikit-Learn: "
      ]
    },
    {
      "cell_type": "markdown",
      "metadata": {
        "id": "oxn3uUTf1Ibq"
      },
      "source": [
        "**A. Load dataset dalam format CSV tersebut, kemudian Ploting data dan pilih data yang sesuai untuk melakukan clustering**"
      ]
    },
    {
      "cell_type": "code",
      "metadata": {
        "id": "T2iyggef1Ibr",
        "colab": {
          "resources": {
            "http://localhost:8080/nbextensions/google.colab/files.js": {
              "data": "Ly8gQ29weXJpZ2h0IDIwMTcgR29vZ2xlIExMQwovLwovLyBMaWNlbnNlZCB1bmRlciB0aGUgQXBhY2hlIExpY2Vuc2UsIFZlcnNpb24gMi4wICh0aGUgIkxpY2Vuc2UiKTsKLy8geW91IG1heSBub3QgdXNlIHRoaXMgZmlsZSBleGNlcHQgaW4gY29tcGxpYW5jZSB3aXRoIHRoZSBMaWNlbnNlLgovLyBZb3UgbWF5IG9idGFpbiBhIGNvcHkgb2YgdGhlIExpY2Vuc2UgYXQKLy8KLy8gICAgICBodHRwOi8vd3d3LmFwYWNoZS5vcmcvbGljZW5zZXMvTElDRU5TRS0yLjAKLy8KLy8gVW5sZXNzIHJlcXVpcmVkIGJ5IGFwcGxpY2FibGUgbGF3IG9yIGFncmVlZCB0byBpbiB3cml0aW5nLCBzb2Z0d2FyZQovLyBkaXN0cmlidXRlZCB1bmRlciB0aGUgTGljZW5zZSBpcyBkaXN0cmlidXRlZCBvbiBhbiAiQVMgSVMiIEJBU0lTLAovLyBXSVRIT1VUIFdBUlJBTlRJRVMgT1IgQ09ORElUSU9OUyBPRiBBTlkgS0lORCwgZWl0aGVyIGV4cHJlc3Mgb3IgaW1wbGllZC4KLy8gU2VlIHRoZSBMaWNlbnNlIGZvciB0aGUgc3BlY2lmaWMgbGFuZ3VhZ2UgZ292ZXJuaW5nIHBlcm1pc3Npb25zIGFuZAovLyBsaW1pdGF0aW9ucyB1bmRlciB0aGUgTGljZW5zZS4KCi8qKgogKiBAZmlsZW92ZXJ2aWV3IEhlbHBlcnMgZm9yIGdvb2dsZS5jb2xhYiBQeXRob24gbW9kdWxlLgogKi8KKGZ1bmN0aW9uKHNjb3BlKSB7CmZ1bmN0aW9uIHNwYW4odGV4dCwgc3R5bGVBdHRyaWJ1dGVzID0ge30pIHsKICBjb25zdCBlbGVtZW50ID0gZG9jdW1lbnQuY3JlYXRlRWxlbWVudCgnc3BhbicpOwogIGVsZW1lbnQudGV4dENvbnRlbnQgPSB0ZXh0OwogIGZvciAoY29uc3Qga2V5IG9mIE9iamVjdC5rZXlzKHN0eWxlQXR0cmlidXRlcykpIHsKICAgIGVsZW1lbnQuc3R5bGVba2V5XSA9IHN0eWxlQXR0cmlidXRlc1trZXldOwogIH0KICByZXR1cm4gZWxlbWVudDsKfQoKLy8gTWF4IG51bWJlciBvZiBieXRlcyB3aGljaCB3aWxsIGJlIHVwbG9hZGVkIGF0IGEgdGltZS4KY29uc3QgTUFYX1BBWUxPQURfU0laRSA9IDEwMCAqIDEwMjQ7CgpmdW5jdGlvbiBfdXBsb2FkRmlsZXMoaW5wdXRJZCwgb3V0cHV0SWQpIHsKICBjb25zdCBzdGVwcyA9IHVwbG9hZEZpbGVzU3RlcChpbnB1dElkLCBvdXRwdXRJZCk7CiAgY29uc3Qgb3V0cHV0RWxlbWVudCA9IGRvY3VtZW50LmdldEVsZW1lbnRCeUlkKG91dHB1dElkKTsKICAvLyBDYWNoZSBzdGVwcyBvbiB0aGUgb3V0cHV0RWxlbWVudCB0byBtYWtlIGl0IGF2YWlsYWJsZSBmb3IgdGhlIG5leHQgY2FsbAogIC8vIHRvIHVwbG9hZEZpbGVzQ29udGludWUgZnJvbSBQeXRob24uCiAgb3V0cHV0RWxlbWVudC5zdGVwcyA9IHN0ZXBzOwoKICByZXR1cm4gX3VwbG9hZEZpbGVzQ29udGludWUob3V0cHV0SWQpOwp9CgovLyBUaGlzIGlzIHJvdWdobHkgYW4gYXN5bmMgZ2VuZXJhdG9yIChub3Qgc3VwcG9ydGVkIGluIHRoZSBicm93c2VyIHlldCksCi8vIHdoZXJlIHRoZXJlIGFyZSBtdWx0aXBsZSBhc3luY2hyb25vdXMgc3RlcHMgYW5kIHRoZSBQeXRob24gc2lkZSBpcyBnb2luZwovLyB0byBwb2xsIGZvciBjb21wbGV0aW9uIG9mIGVhY2ggc3RlcC4KLy8gVGhpcyB1c2VzIGEgUHJvbWlzZSB0byBibG9jayB0aGUgcHl0aG9uIHNpZGUgb24gY29tcGxldGlvbiBvZiBlYWNoIHN0ZXAsCi8vIHRoZW4gcGFzc2VzIHRoZSByZXN1bHQgb2YgdGhlIHByZXZpb3VzIHN0ZXAgYXMgdGhlIGlucHV0IHRvIHRoZSBuZXh0IHN0ZXAuCmZ1bmN0aW9uIF91cGxvYWRGaWxlc0NvbnRpbnVlKG91dHB1dElkKSB7CiAgY29uc3Qgb3V0cHV0RWxlbWVudCA9IGRvY3VtZW50LmdldEVsZW1lbnRCeUlkKG91dHB1dElkKTsKICBjb25zdCBzdGVwcyA9IG91dHB1dEVsZW1lbnQuc3RlcHM7CgogIGNvbnN0IG5leHQgPSBzdGVwcy5uZXh0KG91dHB1dEVsZW1lbnQubGFzdFByb21pc2VWYWx1ZSk7CiAgcmV0dXJuIFByb21pc2UucmVzb2x2ZShuZXh0LnZhbHVlLnByb21pc2UpLnRoZW4oKHZhbHVlKSA9PiB7CiAgICAvLyBDYWNoZSB0aGUgbGFzdCBwcm9taXNlIHZhbHVlIHRvIG1ha2UgaXQgYXZhaWxhYmxlIHRvIHRoZSBuZXh0CiAgICAvLyBzdGVwIG9mIHRoZSBnZW5lcmF0b3IuCiAgICBvdXRwdXRFbGVtZW50Lmxhc3RQcm9taXNlVmFsdWUgPSB2YWx1ZTsKICAgIHJldHVybiBuZXh0LnZhbHVlLnJlc3BvbnNlOwogIH0pOwp9CgovKioKICogR2VuZXJhdG9yIGZ1bmN0aW9uIHdoaWNoIGlzIGNhbGxlZCBiZXR3ZWVuIGVhY2ggYXN5bmMgc3RlcCBvZiB0aGUgdXBsb2FkCiAqIHByb2Nlc3MuCiAqIEBwYXJhbSB7c3RyaW5nfSBpbnB1dElkIEVsZW1lbnQgSUQgb2YgdGhlIGlucHV0IGZpbGUgcGlja2VyIGVsZW1lbnQuCiAqIEBwYXJhbSB7c3RyaW5nfSBvdXRwdXRJZCBFbGVtZW50IElEIG9mIHRoZSBvdXRwdXQgZGlzcGxheS4KICogQHJldHVybiB7IUl0ZXJhYmxlPCFPYmplY3Q+fSBJdGVyYWJsZSBvZiBuZXh0IHN0ZXBzLgogKi8KZnVuY3Rpb24qIHVwbG9hZEZpbGVzU3RlcChpbnB1dElkLCBvdXRwdXRJZCkgewogIGNvbnN0IGlucHV0RWxlbWVudCA9IGRvY3VtZW50LmdldEVsZW1lbnRCeUlkKGlucHV0SWQpOwogIGlucHV0RWxlbWVudC5kaXNhYmxlZCA9IGZhbHNlOwoKICBjb25zdCBvdXRwdXRFbGVtZW50ID0gZG9jdW1lbnQuZ2V0RWxlbWVudEJ5SWQob3V0cHV0SWQpOwogIG91dHB1dEVsZW1lbnQuaW5uZXJIVE1MID0gJyc7CgogIGNvbnN0IHBpY2tlZFByb21pc2UgPSBuZXcgUHJvbWlzZSgocmVzb2x2ZSkgPT4gewogICAgaW5wdXRFbGVtZW50LmFkZEV2ZW50TGlzdGVuZXIoJ2NoYW5nZScsIChlKSA9PiB7CiAgICAgIHJlc29sdmUoZS50YXJnZXQuZmlsZXMpOwogICAgfSk7CiAgfSk7CgogIGNvbnN0IGNhbmNlbCA9IGRvY3VtZW50LmNyZWF0ZUVsZW1lbnQoJ2J1dHRvbicpOwogIGlucHV0RWxlbWVudC5wYXJlbnRFbGVtZW50LmFwcGVuZENoaWxkKGNhbmNlbCk7CiAgY2FuY2VsLnRleHRDb250ZW50ID0gJ0NhbmNlbCB1cGxvYWQnOwogIGNvbnN0IGNhbmNlbFByb21pc2UgPSBuZXcgUHJvbWlzZSgocmVzb2x2ZSkgPT4gewogICAgY2FuY2VsLm9uY2xpY2sgPSAoKSA9PiB7CiAgICAgIHJlc29sdmUobnVsbCk7CiAgICB9OwogIH0pOwoKICAvLyBXYWl0IGZvciB0aGUgdXNlciB0byBwaWNrIHRoZSBmaWxlcy4KICBjb25zdCBmaWxlcyA9IHlpZWxkIHsKICAgIHByb21pc2U6IFByb21pc2UucmFjZShbcGlja2VkUHJvbWlzZSwgY2FuY2VsUHJvbWlzZV0pLAogICAgcmVzcG9uc2U6IHsKICAgICAgYWN0aW9uOiAnc3RhcnRpbmcnLAogICAgfQogIH07CgogIGNhbmNlbC5yZW1vdmUoKTsKCiAgLy8gRGlzYWJsZSB0aGUgaW5wdXQgZWxlbWVudCBzaW5jZSBmdXJ0aGVyIHBpY2tzIGFyZSBub3QgYWxsb3dlZC4KICBpbnB1dEVsZW1lbnQuZGlzYWJsZWQgPSB0cnVlOwoKICBpZiAoIWZpbGVzKSB7CiAgICByZXR1cm4gewogICAgICByZXNwb25zZTogewogICAgICAgIGFjdGlvbjogJ2NvbXBsZXRlJywKICAgICAgfQogICAgfTsKICB9CgogIGZvciAoY29uc3QgZmlsZSBvZiBmaWxlcykgewogICAgY29uc3QgbGkgPSBkb2N1bWVudC5jcmVhdGVFbGVtZW50KCdsaScpOwogICAgbGkuYXBwZW5kKHNwYW4oZmlsZS5uYW1lLCB7Zm9udFdlaWdodDogJ2JvbGQnfSkpOwogICAgbGkuYXBwZW5kKHNwYW4oCiAgICAgICAgYCgke2ZpbGUudHlwZSB8fCAnbi9hJ30pIC0gJHtmaWxlLnNpemV9IGJ5dGVzLCBgICsKICAgICAgICBgbGFzdCBtb2RpZmllZDogJHsKICAgICAgICAgICAgZmlsZS5sYXN0TW9kaWZpZWREYXRlID8gZmlsZS5sYXN0TW9kaWZpZWREYXRlLnRvTG9jYWxlRGF0ZVN0cmluZygpIDoKICAgICAgICAgICAgICAgICAgICAgICAgICAgICAgICAgICAgJ24vYSd9IC0gYCkpOwogICAgY29uc3QgcGVyY2VudCA9IHNwYW4oJzAlIGRvbmUnKTsKICAgIGxpLmFwcGVuZENoaWxkKHBlcmNlbnQpOwoKICAgIG91dHB1dEVsZW1lbnQuYXBwZW5kQ2hpbGQobGkpOwoKICAgIGNvbnN0IGZpbGVEYXRhUHJvbWlzZSA9IG5ldyBQcm9taXNlKChyZXNvbHZlKSA9PiB7CiAgICAgIGNvbnN0IHJlYWRlciA9IG5ldyBGaWxlUmVhZGVyKCk7CiAgICAgIHJlYWRlci5vbmxvYWQgPSAoZSkgPT4gewogICAgICAgIHJlc29sdmUoZS50YXJnZXQucmVzdWx0KTsKICAgICAgfTsKICAgICAgcmVhZGVyLnJlYWRBc0FycmF5QnVmZmVyKGZpbGUpOwogICAgfSk7CiAgICAvLyBXYWl0IGZvciB0aGUgZGF0YSB0byBiZSByZWFkeS4KICAgIGxldCBmaWxlRGF0YSA9IHlpZWxkIHsKICAgICAgcHJvbWlzZTogZmlsZURhdGFQcm9taXNlLAogICAgICByZXNwb25zZTogewogICAgICAgIGFjdGlvbjogJ2NvbnRpbnVlJywKICAgICAgfQogICAgfTsKCiAgICAvLyBVc2UgYSBjaHVua2VkIHNlbmRpbmcgdG8gYXZvaWQgbWVzc2FnZSBzaXplIGxpbWl0cy4gU2VlIGIvNjIxMTU2NjAuCiAgICBsZXQgcG9zaXRpb24gPSAwOwogICAgZG8gewogICAgICBjb25zdCBsZW5ndGggPSBNYXRoLm1pbihmaWxlRGF0YS5ieXRlTGVuZ3RoIC0gcG9zaXRpb24sIE1BWF9QQVlMT0FEX1NJWkUpOwogICAgICBjb25zdCBjaHVuayA9IG5ldyBVaW50OEFycmF5KGZpbGVEYXRhLCBwb3NpdGlvbiwgbGVuZ3RoKTsKICAgICAgcG9zaXRpb24gKz0gbGVuZ3RoOwoKICAgICAgY29uc3QgYmFzZTY0ID0gYnRvYShTdHJpbmcuZnJvbUNoYXJDb2RlLmFwcGx5KG51bGwsIGNodW5rKSk7CiAgICAgIHlpZWxkIHsKICAgICAgICByZXNwb25zZTogewogICAgICAgICAgYWN0aW9uOiAnYXBwZW5kJywKICAgICAgICAgIGZpbGU6IGZpbGUubmFtZSwKICAgICAgICAgIGRhdGE6IGJhc2U2NCwKICAgICAgICB9LAogICAgICB9OwoKICAgICAgbGV0IHBlcmNlbnREb25lID0gZmlsZURhdGEuYnl0ZUxlbmd0aCA9PT0gMCA/CiAgICAgICAgICAxMDAgOgogICAgICAgICAgTWF0aC5yb3VuZCgocG9zaXRpb24gLyBmaWxlRGF0YS5ieXRlTGVuZ3RoKSAqIDEwMCk7CiAgICAgIHBlcmNlbnQudGV4dENvbnRlbnQgPSBgJHtwZXJjZW50RG9uZX0lIGRvbmVgOwoKICAgIH0gd2hpbGUgKHBvc2l0aW9uIDwgZmlsZURhdGEuYnl0ZUxlbmd0aCk7CiAgfQoKICAvLyBBbGwgZG9uZS4KICB5aWVsZCB7CiAgICByZXNwb25zZTogewogICAgICBhY3Rpb246ICdjb21wbGV0ZScsCiAgICB9CiAgfTsKfQoKc2NvcGUuZ29vZ2xlID0gc2NvcGUuZ29vZ2xlIHx8IHt9OwpzY29wZS5nb29nbGUuY29sYWIgPSBzY29wZS5nb29nbGUuY29sYWIgfHwge307CnNjb3BlLmdvb2dsZS5jb2xhYi5fZmlsZXMgPSB7CiAgX3VwbG9hZEZpbGVzLAogIF91cGxvYWRGaWxlc0NvbnRpbnVlLAp9Owp9KShzZWxmKTsK",
              "ok": true,
              "headers": [
                [
                  "content-type",
                  "application/javascript"
                ]
              ],
              "status": 200,
              "status_text": ""
            }
          },
          "base_uri": "https://localhost:8080/",
          "height": 72
        },
        "outputId": "4ff0aed5-7b7b-40f1-f59e-6b460ddfb5c1"
      },
      "source": [
        "# Kode poin A di sini\n",
        "import pandas as pd\n",
        "import matplotlib.pyplot as plt\n",
        "import numpy as np \n",
        "from google.colab import files\n",
        "filenya = files.upload() #inisialisasi datasetnya\n"
      ],
      "execution_count": 1,
      "outputs": [
        {
          "output_type": "display_data",
          "data": {
            "text/html": [
              "\n",
              "     <input type=\"file\" id=\"files-50630b55-1583-4b66-aedf-1a91abe7b1c1\" name=\"files[]\" multiple disabled\n",
              "        style=\"border:none\" />\n",
              "     <output id=\"result-50630b55-1583-4b66-aedf-1a91abe7b1c1\">\n",
              "      Upload widget is only available when the cell has been executed in the\n",
              "      current browser session. Please rerun this cell to enable.\n",
              "      </output>\n",
              "      <script src=\"/nbextensions/google.colab/files.js\"></script> "
            ],
            "text/plain": [
              "<IPython.core.display.HTML object>"
            ]
          },
          "metadata": {}
        },
        {
          "output_type": "stream",
          "name": "stdout",
          "text": [
            "Saving Mall_Customers.csv to Mall_Customers.csv\n"
          ]
        }
      ]
    },
    {
      "cell_type": "code",
      "metadata": {
        "colab": {
          "base_uri": "https://localhost:8080/"
        },
        "id": "4CiegrWbZNem",
        "outputId": "32291a96-fbbf-4288-9302-feab223023e3"
      },
      "source": [
        "# mengambil annual income dan spending score untuk kebutuhan data clustering\n",
        "import io\n",
        "mall=pd.read_csv('Mall_Customers.csv')\n",
        "X = mall.iloc[:, [3, 4]].values\n",
        "print(X)"
      ],
      "execution_count": 4,
      "outputs": [
        {
          "output_type": "stream",
          "name": "stdout",
          "text": [
            "[[ 15  39]\n",
            " [ 15  81]\n",
            " [ 16   6]\n",
            " [ 16  77]\n",
            " [ 17  40]\n",
            " [ 17  76]\n",
            " [ 18   6]\n",
            " [ 18  94]\n",
            " [ 19   3]\n",
            " [ 19  72]\n",
            " [ 19  14]\n",
            " [ 19  99]\n",
            " [ 20  15]\n",
            " [ 20  77]\n",
            " [ 20  13]\n",
            " [ 20  79]\n",
            " [ 21  35]\n",
            " [ 21  66]\n",
            " [ 23  29]\n",
            " [ 23  98]\n",
            " [ 24  35]\n",
            " [ 24  73]\n",
            " [ 25   5]\n",
            " [ 25  73]\n",
            " [ 28  14]\n",
            " [ 28  82]\n",
            " [ 28  32]\n",
            " [ 28  61]\n",
            " [ 29  31]\n",
            " [ 29  87]\n",
            " [ 30   4]\n",
            " [ 30  73]\n",
            " [ 33   4]\n",
            " [ 33  92]\n",
            " [ 33  14]\n",
            " [ 33  81]\n",
            " [ 34  17]\n",
            " [ 34  73]\n",
            " [ 37  26]\n",
            " [ 37  75]\n",
            " [ 38  35]\n",
            " [ 38  92]\n",
            " [ 39  36]\n",
            " [ 39  61]\n",
            " [ 39  28]\n",
            " [ 39  65]\n",
            " [ 40  55]\n",
            " [ 40  47]\n",
            " [ 40  42]\n",
            " [ 40  42]\n",
            " [ 42  52]\n",
            " [ 42  60]\n",
            " [ 43  54]\n",
            " [ 43  60]\n",
            " [ 43  45]\n",
            " [ 43  41]\n",
            " [ 44  50]\n",
            " [ 44  46]\n",
            " [ 46  51]\n",
            " [ 46  46]\n",
            " [ 46  56]\n",
            " [ 46  55]\n",
            " [ 47  52]\n",
            " [ 47  59]\n",
            " [ 48  51]\n",
            " [ 48  59]\n",
            " [ 48  50]\n",
            " [ 48  48]\n",
            " [ 48  59]\n",
            " [ 48  47]\n",
            " [ 49  55]\n",
            " [ 49  42]\n",
            " [ 50  49]\n",
            " [ 50  56]\n",
            " [ 54  47]\n",
            " [ 54  54]\n",
            " [ 54  53]\n",
            " [ 54  48]\n",
            " [ 54  52]\n",
            " [ 54  42]\n",
            " [ 54  51]\n",
            " [ 54  55]\n",
            " [ 54  41]\n",
            " [ 54  44]\n",
            " [ 54  57]\n",
            " [ 54  46]\n",
            " [ 57  58]\n",
            " [ 57  55]\n",
            " [ 58  60]\n",
            " [ 58  46]\n",
            " [ 59  55]\n",
            " [ 59  41]\n",
            " [ 60  49]\n",
            " [ 60  40]\n",
            " [ 60  42]\n",
            " [ 60  52]\n",
            " [ 60  47]\n",
            " [ 60  50]\n",
            " [ 61  42]\n",
            " [ 61  49]\n",
            " [ 62  41]\n",
            " [ 62  48]\n",
            " [ 62  59]\n",
            " [ 62  55]\n",
            " [ 62  56]\n",
            " [ 62  42]\n",
            " [ 63  50]\n",
            " [ 63  46]\n",
            " [ 63  43]\n",
            " [ 63  48]\n",
            " [ 63  52]\n",
            " [ 63  54]\n",
            " [ 64  42]\n",
            " [ 64  46]\n",
            " [ 65  48]\n",
            " [ 65  50]\n",
            " [ 65  43]\n",
            " [ 65  59]\n",
            " [ 67  43]\n",
            " [ 67  57]\n",
            " [ 67  56]\n",
            " [ 67  40]\n",
            " [ 69  58]\n",
            " [ 69  91]\n",
            " [ 70  29]\n",
            " [ 70  77]\n",
            " [ 71  35]\n",
            " [ 71  95]\n",
            " [ 71  11]\n",
            " [ 71  75]\n",
            " [ 71   9]\n",
            " [ 71  75]\n",
            " [ 72  34]\n",
            " [ 72  71]\n",
            " [ 73   5]\n",
            " [ 73  88]\n",
            " [ 73   7]\n",
            " [ 73  73]\n",
            " [ 74  10]\n",
            " [ 74  72]\n",
            " [ 75   5]\n",
            " [ 75  93]\n",
            " [ 76  40]\n",
            " [ 76  87]\n",
            " [ 77  12]\n",
            " [ 77  97]\n",
            " [ 77  36]\n",
            " [ 77  74]\n",
            " [ 78  22]\n",
            " [ 78  90]\n",
            " [ 78  17]\n",
            " [ 78  88]\n",
            " [ 78  20]\n",
            " [ 78  76]\n",
            " [ 78  16]\n",
            " [ 78  89]\n",
            " [ 78   1]\n",
            " [ 78  78]\n",
            " [ 78   1]\n",
            " [ 78  73]\n",
            " [ 79  35]\n",
            " [ 79  83]\n",
            " [ 81   5]\n",
            " [ 81  93]\n",
            " [ 85  26]\n",
            " [ 85  75]\n",
            " [ 86  20]\n",
            " [ 86  95]\n",
            " [ 87  27]\n",
            " [ 87  63]\n",
            " [ 87  13]\n",
            " [ 87  75]\n",
            " [ 87  10]\n",
            " [ 87  92]\n",
            " [ 88  13]\n",
            " [ 88  86]\n",
            " [ 88  15]\n",
            " [ 88  69]\n",
            " [ 93  14]\n",
            " [ 93  90]\n",
            " [ 97  32]\n",
            " [ 97  86]\n",
            " [ 98  15]\n",
            " [ 98  88]\n",
            " [ 99  39]\n",
            " [ 99  97]\n",
            " [101  24]\n",
            " [101  68]\n",
            " [103  17]\n",
            " [103  85]\n",
            " [103  23]\n",
            " [103  69]\n",
            " [113   8]\n",
            " [113  91]\n",
            " [120  16]\n",
            " [120  79]\n",
            " [126  28]\n",
            " [126  74]\n",
            " [137  18]\n",
            " [137  83]]\n"
          ]
        }
      ]
    },
    {
      "cell_type": "code",
      "metadata": {
        "id": "DnCZDHe_1Ibr",
        "colab": {
          "base_uri": "https://localhost:8080/",
          "height": 299
        },
        "outputId": "9d6c191b-7e39-47a4-99eb-0d443f733189"
      },
      "source": [
        "def plot_clusters(X, y=None):\n",
        "    plt.scatter(X[:, 0], X[:, 1], c=y, s=1)\n",
        "    plt.xlabel(\"Annual income\", fontsize=14)\n",
        "    plt.ylabel(\"Spending Score\", fontsize=14)\n",
        "\n",
        "plt.figure(figsize=(8, 4))\n",
        "plot_clusters(X)\n",
        "plt.title('Hasil plot')\n",
        "plt.show()"
      ],
      "execution_count": 5,
      "outputs": [
        {
          "output_type": "display_data",
          "data": {
            "image/png": "[encoded data removed]",
            "text/plain": [
              "<Figure size 576x288 with 1 Axes>"
            ]
          },
          "metadata": {
            "needs_background": "light"
          }
        }
      ]
    },
    {
      "cell_type": "markdown",
      "metadata": {
        "id": "njyVN3d_1Ibs"
      },
      "source": [
        "**B. mencari nilai inerstia dan silhouette, analisis dan tentukan nilai k-nya**"
      ]
    },
    {
      "cell_type": "markdown",
      "metadata": {
        "id": "YzBFbBWo1Ibs"
      },
      "source": [
        "Sertakan analisis penentuan nilai k nya"
      ]
    },
    {
      "cell_type": "code",
      "metadata": {
        "id": "R6On2FjP1Ibs",
        "colab": {
          "base_uri": "https://localhost:8080/",
          "height": 295
        },
        "outputId": "5e077c25-70d0-4e4f-cca7-54a6d69b9635"
      },
      "source": [
        "# Kode poin B di sini\n",
        "from sklearn.cluster import KMeans\n",
        "from sklearn import metrics\n",
        "\n",
        "wcss = []\n",
        "for i in range(2, 10):\n",
        "    kmeans = KMeans(n_clusters = i, init = 'k-means++', random_state = 42)\n",
        "    kmeans.fit(X)\n",
        "    wcss.append(kmeans.inertia_) \n",
        "plt.plot(range(2, 10), wcss)\n",
        "plt.title('Metode Elbow')\n",
        "plt.xlabel('Jumlah clusters')\n",
        "plt.ylabel('WCSS(Inertia)')\n",
        "plt.show()\n",
        "\n"
      ],
      "execution_count": 6,
      "outputs": [
        {
          "output_type": "display_data",
          "data": {
            "image/png": "[encoded data removed]",
            "text/plain": [
              "<Figure size 432x288 with 1 Axes>"
            ]
          },
          "metadata": {
            "needs_background": "light"
          }
        }
      ]
    },
    {
      "cell_type": "markdown",
      "metadata": {
        "id": "on1y1N3c1Ibs"
      },
      "source": [
        "Nilai k didapatkan 5 dikarenakan elbow terletak di point 5. Untuk membuktikan k = 5 terbaik , kita bandingkan dengan nilai silhoutte k = 4 dan k = 6. Nilai silhoutte jika mendekati 1 akan paling optimal."
      ]
    },
    {
      "cell_type": "code",
      "metadata": {
        "id": "kMTJMvWq1Ibs",
        "colab": {
          "base_uri": "https://localhost:8080/"
        },
        "outputId": "6cadc030-af01-4f80-c2b6-b4d27d54bebc"
      },
      "source": [
        "# Mencari nilai silhoutte untuk k=5\n",
        "km_5 = KMeans(n_clusters=5,init = 'k-means++', random_state = 42)\n",
        "km_5.fit(X)\n",
        "labels = km_5.labels_\n",
        "metrics.silhouette_score(X, labels, metric = 'euclidean')"
      ],
      "execution_count": 7,
      "outputs": [
        {
          "output_type": "execute_result",
          "data": {
            "text/plain": [
              "0.553931997444648"
            ]
          },
          "metadata": {},
          "execution_count": 7
        }
      ]
    },
    {
      "cell_type": "code",
      "metadata": {
        "id": "eKK0Yx3M1Ibt",
        "colab": {
          "base_uri": "https://localhost:8080/"
        },
        "outputId": "a3798d17-d274-4cf1-f5ef-a5d3687c3f66"
      },
      "source": [
        "# Mencari nilai silhoutte untuk k=6\n",
        "km_6 = KMeans(n_clusters=6,init = 'k-means++', random_state = 42)\n",
        "km_6.fit(X)\n",
        "labels = km_6.labels_\n",
        "metrics.silhouette_score(X, labels, metric = 'euclidean')"
      ],
      "execution_count": 8,
      "outputs": [
        {
          "output_type": "execute_result",
          "data": {
            "text/plain": [
              "0.5379675585622219"
            ]
          },
          "metadata": {},
          "execution_count": 8
        }
      ]
    },
    {
      "cell_type": "code",
      "metadata": {
        "id": "8GhIFI-41Ibt",
        "colab": {
          "base_uri": "https://localhost:8080/"
        },
        "outputId": "cb55c6cc-f909-4695-9d7f-1e67a9647ab0"
      },
      "source": [
        "# Mencari nilai silhoutte untuk k=4\n",
        "km_4 = KMeans(n_clusters=4,init = 'k-means++', random_state = 42)\n",
        "km_4.fit(X)\n",
        "labels = km_4.labels_\n",
        "metrics.silhouette_score(X, labels, metric = 'euclidean')"
      ],
      "execution_count": 9,
      "outputs": [
        {
          "output_type": "execute_result",
          "data": {
            "text/plain": [
              "0.4931963109249047"
            ]
          },
          "metadata": {},
          "execution_count": 9
        }
      ]
    },
    {
      "cell_type": "markdown",
      "metadata": {
        "id": "ZKW05f8h1Ibt"
      },
      "source": [
        "**C. Lakukan process clustering dengan hasil nilai k yang ditentukan**"
      ]
    },
    {
      "cell_type": "code",
      "metadata": {
        "id": "c2AdIPIW1Ibt"
      },
      "source": [
        "# Kode poin C di sini\n",
        "kmeans = KMeans(n_clusters = 5, init = 'k-means++', random_state = 42)\n",
        "y_kmeans = kmeans.fit_predict(X)\n"
      ],
      "execution_count": 10,
      "outputs": []
    },
    {
      "cell_type": "markdown",
      "metadata": {
        "id": "GAC3-kRv1Ibt"
      },
      "source": [
        "**D. Analisis hasil clustering berdasarkan bedasarkan cluster center dengan data realnya**"
      ]
    },
    {
      "cell_type": "markdown",
      "metadata": {
        "id": "S7FnB2PF1Ibu"
      },
      "source": [
        "--Uraikan poin D di sini, jika memerlukan program tambahkan bisa ditambahkan di bawah--\n"
      ]
    },
    {
      "cell_type": "code",
      "metadata": {
        "id": "yNvG94Sx1Ibu",
        "colab": {
          "base_uri": "https://localhost:8080/",
          "height": 299
        },
        "outputId": "b3529f6a-a08d-484e-cf3b-864fb21bdfd3"
      },
      "source": [
        "def plot_data(X):\n",
        "    plt.plot(X[:, 0], X[:, 1], 'k.', markersize=2)\n",
        "def plot_centroids(centroids, weights=None, circle_color='w', cross_color='k'):\n",
        "    if weights is not None:\n",
        "        centroids = centroids[weights > weights.max() / 10]\n",
        "    plt.scatter(centroids[:, 0], centroids[:, 1],\n",
        "                marker='o', s=30, linewidths=8,\n",
        "                color=circle_color, zorder=10, alpha=0.9)\n",
        "    plt.scatter(centroids[:, 0], centroids[:, 1],\n",
        "                marker='x', s=50, linewidths=50,\n",
        "                color=cross_color, zorder=11, alpha=1)\n",
        "def plot_decision_boundaries(clusterer, X, resolution=1000, show_centroids=True,\n",
        "                            show_xlabels=True, show_ylabels=True):\n",
        "    mins = X.min(axis=0) - 0.1\n",
        "    maxs = X.max(axis=0) + 0.1\n",
        "    xx, yy = np.meshgrid(np.linspace(mins[0], maxs[0], resolution),\n",
        "    np.linspace(mins[1], maxs[1], resolution))\n",
        "    Z = clusterer.predict(np.c_[xx.ravel(), yy.ravel()])\n",
        "    Z = Z.reshape(xx.shape)\n",
        "    plt.contourf(Z, extent=(mins[0], maxs[0], mins[1], maxs[1]),\n",
        "                cmap=\"Pastel2\")\n",
        "    plt.contour(Z, extent=(mins[0], maxs[0], mins[1], maxs[1]),\n",
        "                linewidths=1, colors='k')\n",
        "    plot_data(X)\n",
        "    if show_centroids:\n",
        "        plot_centroids(clusterer.cluster_centers_)\n",
        "    if show_xlabels:\n",
        "        plt.xlabel(\"Annual income\", fontsize=14)\n",
        "    else:\n",
        "        plt.tick_params(labelbottom=False)\n",
        "    if show_ylabels:\n",
        "        plt.ylabel('Spending Score', fontsize=14)\n",
        "    else:\n",
        "        plt.tick_params(labelleft=False)\n",
        "plt.figure(figsize=(8, 4))\n",
        "plt.title('Clusters pelanggan')\n",
        "plot_decision_boundaries(kmeans, X)\n",
        "plt.show()"
      ],
      "execution_count": 11,
      "outputs": [
        {
          "output_type": "display_data",
          "data": {
            "image/png": "[encoded data removed]",
            "text/plain": [
              "<Figure size 576x288 with 1 Axes>"
            ]
          },
          "metadata": {
            "needs_background": "light"
          }
        }
      ]
    },
    {
      "cell_type": "code",
      "metadata": {
        "id": "dPQTDeqa1Ibu",
        "outputId": "ff6448ef-4beb-4b1c-b79b-518e04a43162"
      },
      "source": [
        "# Program tambahan jika diperlukan\n",
        "plt.scatter(X[y_kmeans == 0, 0], X[y_kmeans == 0, 1], s = 100, c = 'red', label = 'Cluster 1')\n",
        "plt.scatter(X[y_kmeans == 1, 0], X[y_kmeans == 1, 1], s = 100, c = 'blue', label = 'Cluster 2')\n",
        "plt.scatter(X[y_kmeans == 2, 0], X[y_kmeans == 2, 1], s = 100, c = 'green', label = 'Cluster 3')\n",
        "plt.scatter(X[y_kmeans == 3, 0], X[y_kmeans == 3, 1], s = 100, c = 'cyan', label = 'Cluster 4')\n",
        "plt.scatter(X[y_kmeans == 4, 0], X[y_kmeans == 4, 1], s = 100, c = 'magenta', label = 'Cluster 5')\n",
        "plt.scatter(kmeans.cluster_centers_[:, 0], kmeans.cluster_centers_[:, 1], s = 300, c = 'yellow', label = 'Centroids')\n",
        "plt.title('Clusters pelanggan')\n",
        "plt.xlabel('Spending  (juta Rupiah)')\n",
        "plt.ylabel('Annual Income (1-100)')\n",
        "plt.legend(bbox_to_anchor =(0.75, 1.35), ncol = 6)\n",
        "\n",
        "plt.show()\n"
      ],
      "execution_count": null,
      "outputs": [
        {
          "data": {
            "image/png": "[encoded data removed]",
            "text/plain": [
              "<Figure size 432x288 with 1 Axes>"
            ]
          },
          "metadata": {
            "needs_background": "light"
          },
          "output_type": "display_data"
        }
      ]
    },
    {
      "cell_type": "markdown",
      "metadata": {
        "id": "3xw5Vdrz1Ibu"
      },
      "source": [
        "## 3. Dimensionality Reduction: Principle Component Analysis (PCA)"
      ]
    },
    {
      "cell_type": "markdown",
      "metadata": {
        "id": "-zjVrnj11Ibu"
      },
      "source": [
        "Jika dimisalkan kita ingin melakukan analisis datasets [*Breast Cancer*](https://scikit-learn.org/stable/modules/generated/sklearn.datasets.load_breast_cancer.html) dari Scikit-Learn dengan menggunakan konsep Principle Component Analysis (PCA), diantaranya ingin menentukan:\n",
        "1. Principle Component (PC) yang akan diperoleh jika mempertahankan minimum 90% variansi.\n",
        "2. Prosentase pengurangan data setelah dimensi dikurangi dengan PCA\n",
        "3. Sebaliknya jika hanya dua principle component yang pertama yang digunakan, berapa % variansi yang tetap di-maintain oleh algoritma\n",
        "\n",
        "Langkah pertama yang kita lakukan adalah loading dataset tersebut dan *scaling* data sehingga setiap *feature* akan mempunyai variansi 1 (*unit variance*), dengan program berikut:"
      ]
    },
    {
      "cell_type": "code",
      "metadata": {
        "id": "qtu-zAq01Ibu"
      },
      "source": [
        "# Load Data\n",
        "from sklearn.datasets import load_breast_cancer\n",
        "import numpy as np\n",
        "import pandas as pd\n",
        "\n",
        "cancer = load_breast_cancer()"
      ],
      "execution_count": null,
      "outputs": []
    },
    {
      "cell_type": "code",
      "metadata": {
        "id": "C_YtLlR01Ibv",
        "outputId": "62a2b4dd-4faa-43e0-e8e7-0b7a6562eca5"
      },
      "source": [
        "from sklearn.preprocessing import StandardScaler\n",
        "\n",
        "scaler = StandardScaler()\n",
        "scaler.fit(cancer.data)\n",
        "X_scaled = scaler. transform(cancer.data)\n",
        "print(scaler)\n",
        "print(X_scaled.shape)"
      ],
      "execution_count": null,
      "outputs": [
        {
          "name": "stdout",
          "output_type": "stream",
          "text": [
            "StandardScaler()\n",
            "(569, 30)\n"
          ]
        }
      ]
    },
    {
      "cell_type": "markdown",
      "metadata": {
        "id": "Rj-f0vja1Ibv"
      },
      "source": [
        "`X_scaled` menjadi data yang akan kita gunakan untuk menentukan dua poin di atas."
      ]
    },
    {
      "cell_type": "markdown",
      "metadata": {
        "id": "mGvovOms1Ibv"
      },
      "source": [
        "* Jika kita ingin mempertahankan 90% variansi pada data transformasi, maka tentukan berapa Principle Component yang akan kita gunakan?"
      ]
    },
    {
      "cell_type": "code",
      "metadata": {
        "id": "DNI_L76c1Ibv",
        "outputId": "6fedc730-d4f6-45fc-d2af-1ca557a24e59"
      },
      "source": [
        "# Kode di sini\n",
        "# Mencari Principle yang akan digunakan\n",
        "from sklearn.decomposition import PCA\n",
        "pca = PCA(n_components= 0.9) #mempertahankan variansi 90%\n",
        "X_reduced= pca.fit_transform(X_scaled)\n",
        "print(pca.n_components_)"
      ],
      "execution_count": null,
      "outputs": [
        {
          "name": "stdout",
          "output_type": "stream",
          "text": [
            "7\n"
          ]
        }
      ]
    },
    {
      "cell_type": "code",
      "metadata": {
        "id": "bRxFmnf81Ibv",
        "outputId": "f6821b93-84c9-4b34-8311-8b9693356d4a"
      },
      "source": [
        "np.sum(pca.explained_variance_ratio_)"
      ],
      "execution_count": null,
      "outputs": [
        {
          "data": {
            "text/plain": [
              "0.9100953006967307"
            ]
          },
          "execution_count": 138,
          "metadata": {},
          "output_type": "execute_result"
        }
      ]
    },
    {
      "cell_type": "code",
      "metadata": {
        "id": "BmgHc14i1Ibv",
        "outputId": "da2ce322-34af-45c0-9a01-21fe43b127fc"
      },
      "source": [
        "pca = PCA(n_components= 7)\n",
        "X_reduced = pca.fit_transform(X_scaled)\n",
        "X_recovered = pca.inverse_transform(X_reduced)\n",
        "print(X_reduced.shape)\n",
        "print(X_recovered.shape)"
      ],
      "execution_count": null,
      "outputs": [
        {
          "name": "stdout",
          "output_type": "stream",
          "text": [
            "(569, 7)\n",
            "(569, 30)\n"
          ]
        }
      ]
    },
    {
      "cell_type": "code",
      "metadata": {
        "id": "NXSG-hsk1Ibw",
        "outputId": "2d16e27e-a0bd-4177-84a5-72f77b4ab29f"
      },
      "source": [
        "# mencari presentase pengurangan dimensi\n",
        "print('presentase pengurangan dimensi =',(7/30)*100,'%')"
      ],
      "execution_count": null,
      "outputs": [
        {
          "name": "stdout",
          "output_type": "stream",
          "text": [
            "presentase pengurangan dimensi = 23.333333333333332 %\n"
          ]
        }
      ]
    },
    {
      "cell_type": "markdown",
      "metadata": {
        "id": "ow9LTNSC1Ibw"
      },
      "source": [
        "* Jika kita memutuskan menggunakan data hasil pengurangan dimensi dengan mempertahankan minimum 90% variasi seperti poin di atas. Berapa prosentase data hasil pengurangan dibandingkan dengan data original?\n",
        "\n",
        "-Jawab di sini dengan penjelasan--\n",
        "\n",
        "Presentase pengurangan dimensi sebesar 23.333 % didapat dari hasil kolom setelah pengurangan dimensi dibagi dengan kolom sebelum pengurangan dimensi dikali 100%"
      ]
    },
    {
      "cell_type": "markdown",
      "metadata": {
        "id": "myPP7QWa1Ibw"
      },
      "source": [
        "* Jika kita memutuskan hanya menggunakan dua principle component pertama yang terbesar, berapa variansi data yang dijaga dan berapa prosentase data sekarang dibanding data original?"
      ]
    },
    {
      "cell_type": "code",
      "metadata": {
        "id": "pCdSPCx41Ibw",
        "outputId": "01fd67f5-9bfa-4547-9bde-a7a3e460e5c1"
      },
      "source": [
        "# Kode untuk menjawab di sini\n",
        "pca = PCA(n_components= 2) # diminta 2 principle component\n",
        "X_2d = pca.fit_transform(X_scaled)\n",
        "print(X_2d.shape)\n",
        "print(X_scaled.shape)\n",
        "\n",
        "#rasio Variansi\n",
        "print('\\nRasio Variansi\\n',pca.explained_variance_ratio_)\n",
        "print('\\nNilai Variansi data\\n',np.sum(pca.explained_variance_ratio_))\n"
      ],
      "execution_count": null,
      "outputs": [
        {
          "name": "stdout",
          "output_type": "stream",
          "text": [
            "(569, 2)\n",
            "(569, 30)\n",
            "\n",
            "Rasio Variansi\n",
            " [0.44272026 0.18971182]\n",
            "\n",
            "Nilai Variansi data\n",
            " 0.6324320765155946\n"
          ]
        }
      ]
    },
    {
      "cell_type": "code",
      "metadata": {
        "id": "TVj0ZrxO1Ibw",
        "outputId": "8c1b6f9a-fccf-4c1d-d898-e5c6ef44d5f7"
      },
      "source": [
        "# mencari presentase pengurangan dimensi \n",
        "print('presentase pengurangan dimensi =',(2/30)*100,'%')"
      ],
      "execution_count": null,
      "outputs": [
        {
          "name": "stdout",
          "output_type": "stream",
          "text": [
            "presentase pengurangan dimensi = 6.666666666666667 %\n"
          ]
        }
      ]
    },
    {
      "cell_type": "markdown",
      "metadata": {
        "id": "RMjd05Br1Ibx"
      },
      "source": [
        "-- Kemudian jelaskan di sini---\n",
        "\n",
        "Nilai variansi data pengurangan dimensi menjadi 2 dimensi sebesar 0.63 atau 63%. Nilai presentase pengurangannya yaitu 6.666 % "
      ]
    }
  ]
}